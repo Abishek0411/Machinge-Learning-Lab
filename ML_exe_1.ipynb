{
  "nbformat": 4,
  "nbformat_minor": 0,
  "metadata": {
    "colab": {
      "provenance": [],
      "toc_visible": true,
      "include_colab_link": true
    },
    "kernelspec": {
      "name": "python3",
      "display_name": "Python 3"
    },
    "language_info": {
      "name": "python"
    }
  },
  "cells": [
    {
      "cell_type": "markdown",
      "metadata": {
        "id": "view-in-github",
        "colab_type": "text"
      },
      "source": [
        "<a href=\"https://colab.research.google.com/github/Abishek0411/Machinge-Learning-Lab/blob/main/ML_exe_1.ipynb\" target=\"_parent\"><img src=\"https://colab.research.google.com/assets/colab-badge.svg\" alt=\"Open In Colab\"/></a>"
      ]
    },
    {
      "cell_type": "markdown",
      "source": [
        "**AIM:**  \n",
        "We have a dataset named Laptop-Prices from kaggle. Let us devise a program to input, load and view the dataset."
      ],
      "metadata": {
        "id": "CZs9-Ii5tMFY"
      }
    },
    {
      "cell_type": "markdown",
      "source": [
        "**CODE:**"
      ],
      "metadata": {
        "id": "ZWxs2ZmDtgkv"
      }
    },
    {
      "cell_type": "code",
      "execution_count": null,
      "metadata": {
        "colab": {
          "base_uri": "https://localhost:8080/"
        },
        "id": "HavRu-ksrzwt",
        "outputId": "8a11fd16-ddac-4112-db80-977b5713f48c"
      },
      "outputs": [
        {
          "output_type": "stream",
          "name": "stdout",
          "text": [
            "--2024-09-21 18:37:10--  https://raw.githubusercontent.com/Abishek0411/Machinge-Learning-Lab/main/laptop_prices.csv\n",
            "Resolving raw.githubusercontent.com (raw.githubusercontent.com)... 185.199.108.133, 185.199.109.133, 185.199.110.133, ...\n",
            "Connecting to raw.githubusercontent.com (raw.githubusercontent.com)|185.199.108.133|:443... connected.\n",
            "HTTP request sent, awaiting response... 200 OK\n",
            "Length: 191364 (187K) [text/plain]\n",
            "Saving to: ‘laptop_prices.csv.1’\n",
            "\n",
            "laptop_prices.csv.1 100%[===================>] 186.88K  --.-KB/s    in 0.02s   \n",
            "\n",
            "2024-09-21 18:37:11 (8.56 MB/s) - ‘laptop_prices.csv.1’ saved [191364/191364]\n",
            "\n",
            "  Company      Product   TypeName  Inches  Ram     OS  Weight  Price_euros  \\\n",
            "0   Apple  MacBook Pro  Ultrabook    13.3    8  macOS    1.37      1339.69   \n",
            "1   Apple  Macbook Air  Ultrabook    13.3    8  macOS    1.34       898.94   \n",
            "2      HP       250 G6   Notebook    15.6    8  No OS    1.86       575.00   \n",
            "3   Apple  MacBook Pro  Ultrabook    15.4   16  macOS    1.83      2537.45   \n",
            "4   Apple  MacBook Pro  Ultrabook    13.3    8  macOS    1.37      1803.60   \n",
            "\n",
            "     Screen  ScreenW  ...  RetinaDisplay CPU_company CPU_freq      CPU_model  \\\n",
            "0  Standard     2560  ...            Yes       Intel      2.3        Core i5   \n",
            "1  Standard     1440  ...             No       Intel      1.8        Core i5   \n",
            "2   Full HD     1920  ...             No       Intel      2.5  Core i5 7200U   \n",
            "3  Standard     2880  ...            Yes       Intel      2.7        Core i7   \n",
            "4  Standard     2560  ...            Yes       Intel      3.1        Core i5   \n",
            "\n",
            "  PrimaryStorage  SecondaryStorage PrimaryStorageType  SecondaryStorageType  \\\n",
            "0            128                 0                SSD                    No   \n",
            "1            128                 0      Flash Storage                    No   \n",
            "2            256                 0                SSD                    No   \n",
            "3            512                 0                SSD                    No   \n",
            "4            256                 0                SSD                    No   \n",
            "\n",
            "   GPU_company               GPU_model  \n",
            "0        Intel  Iris Plus Graphics 640  \n",
            "1        Intel        HD Graphics 6000  \n",
            "2        Intel         HD Graphics 620  \n",
            "3          AMD          Radeon Pro 455  \n",
            "4        Intel  Iris Plus Graphics 650  \n",
            "\n",
            "[5 rows x 23 columns]\n"
          ]
        }
      ],
      "source": [
        "# ABISHEK S R\n",
        "# RA2211003011292\n",
        "\n",
        "# Importing Libraries\n",
        "import pandas as pd\n",
        "import numpy as np\n",
        "\n",
        "# Uploading dataset\n",
        "'''\n",
        "from google.colab import drive\n",
        "drive.mount('/content/drive')\n",
        "file_path = '/content/drive/MyDrive/datasets/laptop_prices.csv'\n",
        "df = pd.read_csv(file_path)\n",
        "'''\n",
        "!wget https://raw.githubusercontent.com/Abishek0411/Machinge-Learning-Lab/main/laptop_prices.csv\n",
        "df = pd.read_csv('laptop_prices.csv')\n",
        "\n",
        "\n",
        "\n",
        "# Displaying the first few rows of the dataset\n",
        "print(df.head())\n",
        "\n",
        "\n"
      ]
    },
    {
      "cell_type": "markdown",
      "source": [
        "**Output:**  \n",
        "--2024-09-21 18:37:10--  https://raw.githubusercontent.com/Abishek0411/Machinge-Learning-Lab/main/laptop_prices.csv\n",
        "Resolving raw.githubusercontent.com (raw.githubusercontent.com)... 185.199.108.133, 185.199.109.133, 185.199.110.133, ...\n",
        "Connecting to raw.githubusercontent.com (raw.githubusercontent.com)|185.199.108.133|:443... connected.\n",
        "HTTP request sent, awaiting response... 200 OK\n",
        "Length: 191364 (187K) [text/plain]\n",
        "Saving to: ‘laptop_prices.csv.1’\n",
        "\n",
        "laptop_prices.csv.1 100%[===================>] 186.88K  --.-KB/s    in 0.02s   \n",
        "\n",
        "2024-09-21 18:37:11 (8.56 MB/s) - ‘laptop_prices.csv.1’ saved [191364/191364]\n",
        "\n",
        "  Company      Product   TypeName  Inches  Ram     OS  Weight  Price_euros  \\\n",
        "0   Apple  MacBook Pro  Ultrabook    13.3    8  macOS    1.37      1339.69   \n",
        "1   Apple  Macbook Air  Ultrabook    13.3    8  macOS    1.34       898.94   \n",
        "2      HP       250 G6   Notebook    15.6    8  No OS    1.86       575.00   \n",
        "3   Apple  MacBook Pro  Ultrabook    15.4   16  macOS    1.83      2537.45   \n",
        "4   Apple  MacBook Pro  Ultrabook    13.3    8  macOS    1.37      1803.60   \n",
        "\n",
        "     Screen  ScreenW  ...  RetinaDisplay CPU_company CPU_freq      CPU_model  \\\n",
        "0  Standard     2560  ...            Yes       Intel      2.3        Core i5   \n",
        "1  Standard     1440  ...             No       Intel      1.8        Core i5   \n",
        "2   Full HD     1920  ...             No       Intel      2.5  Core i5 7200U   \n",
        "3  Standard     2880  ...            Yes       Intel      2.7        Core i7   \n",
        "4  Standard     2560  ...            Yes       Intel      3.1        Core i5   \n",
        "\n",
        "  PrimaryStorage  SecondaryStorage PrimaryStorageType  SecondaryStorageType  \\\n",
        "0            128                 0                SSD                    No   \n",
        "1            128                 0      Flash Storage                    No   \n",
        "2            256                 0                SSD                    No   \n",
        "3            512                 0                SSD                    No   \n",
        "4            256                 0                SSD                    No   \n",
        "\n",
        "   GPU_company               GPU_model  \n",
        "0        Intel  Iris Plus Graphics 640  \n",
        "1        Intel        HD Graphics 6000  \n",
        "2        Intel         HD Graphics 620  \n",
        "3          AMD          Radeon Pro 455  \n",
        "4        Intel  Iris Plus Graphics 650  \n",
        "\n",
        "[5 rows x 23 columns]"
      ],
      "metadata": {
        "id": "TXcBdzHS0fNP"
      }
    }
  ]
}